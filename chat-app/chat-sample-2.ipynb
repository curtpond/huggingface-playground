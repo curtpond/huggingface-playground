{
 "cells": [
  {
   "cell_type": "markdown",
   "metadata": {},
   "source": [
    "### Install libraries"
   ]
  },
  {
   "cell_type": "code",
   "execution_count": 3,
   "metadata": {},
   "outputs": [],
   "source": [
    "from huggingface_hub import InferenceClient\n",
    "import gradio as gr\n",
    "from dotenv import load_dotenv\n",
    "import os\n",
    "import time"
   ]
  },
  {
   "cell_type": "markdown",
   "metadata": {},
   "source": [
    "### Load API key"
   ]
  },
  {
   "cell_type": "code",
   "execution_count": 4,
   "metadata": {},
   "outputs": [
    {
     "data": {
      "text/plain": [
       "True"
      ]
     },
     "execution_count": 4,
     "metadata": {},
     "output_type": "execute_result"
    }
   ],
   "source": [
    "# Load environment variables from the .env file\n",
    "dotenv_path = 'huggingface/huggingface-playground/chat-app/.env'\n",
    "load_dotenv(dotenv_path=dotenv_path)"
   ]
  },
  {
   "cell_type": "code",
   "execution_count": 5,
   "metadata": {},
   "outputs": [
    {
     "name": "stdout",
     "output_type": "stream",
     "text": [
      "API Key loaded successfully\n"
     ]
    }
   ],
   "source": [
    "# Set the API key\n",
    "api_key = os.getenv(\"HUGGINGFACE_API_KEY\")\n",
    "print(f\"API Key loaded successfully\")\n",
    "\n",
    "if api_key is None:\n",
    "    raise ValueError(\"HUGGINGFACE_API_KEY environment variable not set.\")"
   ]
  },
  {
   "cell_type": "markdown",
   "metadata": {},
   "source": [
    "### Set inference client"
   ]
  },
  {
   "cell_type": "code",
   "execution_count": 6,
   "metadata": {},
   "outputs": [],
   "source": [
    "client = InferenceClient(\"microsoft/phi-1_5\", token=api_key)"
   ]
  },
  {
   "cell_type": "markdown",
   "metadata": {},
   "source": [
    "### Create interface for model"
   ]
  },
  {
   "cell_type": "code",
   "execution_count": 7,
   "metadata": {},
   "outputs": [
    {
     "name": "stdout",
     "output_type": "stream",
     "text": [
      "Running on local URL:  http://127.0.0.1:7860\n",
      "\n",
      "To create a public link, set `share=True` in `launch()`.\n"
     ]
    },
    {
     "data": {
      "text/html": [
       "<div><iframe src=\"http://127.0.0.1:7860/\" width=\"100%\" height=\"500\" allow=\"autoplay; camera; microphone; clipboard-read; clipboard-write;\" frameborder=\"0\" allowfullscreen></iframe></div>"
      ],
      "text/plain": [
       "<IPython.core.display.HTML object>"
      ]
     },
     "metadata": {},
     "output_type": "display_data"
    }
   ],
   "source": [
    "def respond(message, history, system_message, max_tokens, temperature, top_p):\n",
    "    try:\n",
    "        messages = [{\"role\": \"system\", \"content\": system_message}]\n",
    "        for val in history:\n",
    "            if val[0]:\n",
    "                messages.append({\"role\": \"user\", \"content\": val[0]})\n",
    "            if val[1]:\n",
    "                messages.append({\"role\": \"assistant\", \"content\": val[1]})\n",
    "        \n",
    "        messages.append({\"role\": \"user\", \"content\": message})\n",
    "\n",
    "        response = \"\"\n",
    "        while True:\n",
    "            try:\n",
    "                for message in client.chat_completion(\n",
    "                    messages=messages,\n",
    "                    model=\"microsoft/phi-1_5\",\n",
    "                    max_tokens=max_tokens,\n",
    "                    temperature=temperature,\n",
    "                    top_p=top_p,\n",
    "                    stream=True\n",
    "                ):\n",
    "                    token = message[\"choices\"][0][\"delta\"][\"content\"]\n",
    "                    response += token\n",
    "                    yield response\n",
    "                break\n",
    "            except Exception as e:\n",
    "                if '429' in str(e):\n",
    "                    print(f\"Rate limit reached. Retrying in 60 seconds...\")\n",
    "                    time.sleep(60)  # Wait for 60 seconds before retrying\n",
    "                else:\n",
    "                    raise e\n",
    "\n",
    "    except Exception as e:\n",
    "        print(f\"Error occurred: {e}\")\n",
    "        yield f\"An error occurred: {e}\"\n",
    "\n",
    "demo = gr.Interface(\n",
    "    fn=respond,\n",
    "    inputs=[\n",
    "        gr.Textbox(lines=2, placeholder=\"Enter your message here...\"),\n",
    "        gr.State(),  # This must match with one State output\n",
    "        gr.Textbox(lines=1, placeholder=\"System message\"),\n",
    "        gr.Slider(minimum=10, maximum=500, step=10, value=200, label=\"Max tokens\"),\n",
    "        gr.Slider(minimum=0.1, maximum=1.0, step=0.1, value=0.7, label=\"Temperature\"),\n",
    "        gr.Slider(minimum=0.1, maximum=1.0, step=0.1, value=0.9, label=\"Top P\")\n",
    "    ],\n",
    "    outputs=[\n",
    "        \"text\",     # Response text output\n",
    "        gr.State()  # This must match with one State input\n",
    "    ]\n",
    ")\n",
    "\n",
    "if __name__ == \"__main__\":\n",
    "    demo.launch()\n"
   ]
  }
 ],
 "metadata": {
  "kernelspec": {
   "display_name": "huggingface",
   "language": "python",
   "name": "python3"
  },
  "language_info": {
   "codemirror_mode": {
    "name": "ipython",
    "version": 3
   },
   "file_extension": ".py",
   "mimetype": "text/x-python",
   "name": "python",
   "nbconvert_exporter": "python",
   "pygments_lexer": "ipython3",
   "version": "3.9.12"
  }
 },
 "nbformat": 4,
 "nbformat_minor": 2
}
