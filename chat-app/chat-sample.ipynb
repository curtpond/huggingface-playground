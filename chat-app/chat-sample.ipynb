{
 "cells": [
  {
   "cell_type": "markdown",
   "metadata": {},
   "source": [
    "### Install libraries"
   ]
  },
  {
   "cell_type": "code",
   "execution_count": 3,
   "metadata": {},
   "outputs": [],
   "source": [
    "from huggingface_hub import InferenceClient\n",
    "import gradio as gr\n",
    "from transformers import AutoTokenizer, AutoModelForCausalLM\n",
    "from dotenv import load_dotenv\n",
    "import os"
   ]
  },
  {
   "cell_type": "markdown",
   "metadata": {},
   "source": [
    "### Load API key"
   ]
  },
  {
   "cell_type": "code",
   "execution_count": 4,
   "metadata": {},
   "outputs": [],
   "source": [
    "# Load environment variables from the .env file\n",
    "load_dotenv()\n",
    "\n",
    "# Get the API key from the environment variables\n",
    "api_key = os.getenv(\"HUGGINGFACE_API_KEY\")"
   ]
  },
  {
   "cell_type": "markdown",
   "metadata": {},
   "source": [
    "### Load the model and tokenizer"
   ]
  },
  {
   "cell_type": "code",
   "execution_count": 5,
   "metadata": {},
   "outputs": [],
   "source": [
    "# from transformers import LlamaForCausalLM, LlamaTokenizer"
   ]
  },
  {
   "cell_type": "code",
   "execution_count": 7,
   "metadata": {},
   "outputs": [],
   "source": [
    "# model_name = \"HuggingFaceH4/zephyr-7b-beta\""
   ]
  },
  {
   "cell_type": "code",
   "execution_count": null,
   "metadata": {},
   "outputs": [],
   "source": [
    "# tokenizer = LlamaTokenizer.from_pretrained(model_name, use_auth_token=api_key)\n",
    "# model = LlamaForCausalLM.from_pretrained(model_name, use_auth_token=api_key)"
   ]
  },
  {
   "cell_type": "code",
   "execution_count": null,
   "metadata": {},
   "outputs": [],
   "source": [
    "from transformers import pipeline\n",
    "\n",
    "pipe = pipeline(\"text-generation\", model=\"JosephusCheung/LL7M\")"
   ]
  },
  {
   "cell_type": "code",
   "execution_count": null,
   "metadata": {},
   "outputs": [],
   "source": [
    "tokenizer = AutoTokenizer.from_pretrained(\"JosephusCheung/LL7M\")\n",
    "model = AutoModelForCausalLM.from_pretrained(\"JosephusCheung/LL7M\")"
   ]
  },
  {
   "cell_type": "markdown",
   "metadata": {},
   "source": [
    "### Set inference client"
   ]
  },
  {
   "cell_type": "code",
   "execution_count": 9,
   "metadata": {},
   "outputs": [],
   "source": [
    "client = InferenceClient(\"HuggingFaceH4/zephyr-7b-beta\")"
   ]
  },
  {
   "cell_type": "code",
   "execution_count": 11,
   "metadata": {},
   "outputs": [
    {
     "name": "stderr",
     "output_type": "stream",
     "text": [
      "/opt/homebrew/Caskroom/miniforge/base/envs/huggingface/lib/python3.9/site-packages/gradio/utils.py:1000: UserWarning: Expected 6 arguments for function <function respond at 0x16886f160>, received 3.\n",
      "  warnings.warn(\n",
      "/opt/homebrew/Caskroom/miniforge/base/envs/huggingface/lib/python3.9/site-packages/gradio/utils.py:1004: UserWarning: Expected at least 6 arguments for function <function respond at 0x16886f160>, received 3.\n",
      "  warnings.warn(\n"
     ]
    },
    {
     "name": "stdout",
     "output_type": "stream",
     "text": [
      "Running on local URL:  http://127.0.0.1:7861\n",
      "\n",
      "To create a public link, set `share=True` in `launch()`.\n"
     ]
    },
    {
     "data": {
      "text/html": [
       "<div><iframe src=\"http://127.0.0.1:7861/\" width=\"100%\" height=\"500\" allow=\"autoplay; camera; microphone; clipboard-read; clipboard-write;\" frameborder=\"0\" allowfullscreen></iframe></div>"
      ],
      "text/plain": [
       "<IPython.core.display.HTML object>"
      ]
     },
     "metadata": {},
     "output_type": "display_data"
    },
    {
     "name": "stderr",
     "output_type": "stream",
     "text": [
      "/opt/homebrew/Caskroom/miniforge/base/envs/huggingface/lib/python3.9/site-packages/gradio/helpers.py:947: UserWarning: Unexpected argument. Filling with None.\n",
      "  warnings.warn(\"Unexpected argument. Filling with None.\")\n",
      "Traceback (most recent call last):\n",
      "  File \"/opt/homebrew/Caskroom/miniforge/base/envs/huggingface/lib/python3.9/site-packages/huggingface_hub/utils/_errors.py\", line 304, in hf_raise_for_status\n",
      "    response.raise_for_status()\n",
      "  File \"/opt/homebrew/Caskroom/miniforge/base/envs/huggingface/lib/python3.9/site-packages/requests/models.py\", line 1024, in raise_for_status\n",
      "    raise HTTPError(http_error_msg, response=self)\n",
      "requests.exceptions.HTTPError: 429 Client Error: Too Many Requests for url: https://api-inference.huggingface.co/models/HuggingFaceH4/zephyr-7b-beta/v1/chat/completions\n",
      "\n",
      "The above exception was the direct cause of the following exception:\n",
      "\n",
      "Traceback (most recent call last):\n",
      "  File \"/opt/homebrew/Caskroom/miniforge/base/envs/huggingface/lib/python3.9/site-packages/gradio/queueing.py\", line 532, in process_events\n",
      "    response = await route_utils.call_process_api(\n",
      "  File \"/opt/homebrew/Caskroom/miniforge/base/envs/huggingface/lib/python3.9/site-packages/gradio/route_utils.py\", line 276, in call_process_api\n",
      "    output = await app.get_blocks().process_api(\n",
      "  File \"/opt/homebrew/Caskroom/miniforge/base/envs/huggingface/lib/python3.9/site-packages/gradio/blocks.py\", line 1923, in process_api\n",
      "    result = await self.call_function(\n",
      "  File \"/opt/homebrew/Caskroom/miniforge/base/envs/huggingface/lib/python3.9/site-packages/gradio/blocks.py\", line 1521, in call_function\n",
      "    prediction = await utils.async_iteration(iterator)\n",
      "  File \"/opt/homebrew/Caskroom/miniforge/base/envs/huggingface/lib/python3.9/site-packages/gradio/utils.py\", line 656, in async_iteration\n",
      "    return await iterator.__anext__()\n",
      "  File \"/opt/homebrew/Caskroom/miniforge/base/envs/huggingface/lib/python3.9/site-packages/gradio/utils.py\", line 782, in asyncgen_wrapper\n",
      "    response = await iterator.__anext__()\n",
      "  File \"/opt/homebrew/Caskroom/miniforge/base/envs/huggingface/lib/python3.9/site-packages/gradio/chat_interface.py\", line 584, in _stream_fn\n",
      "    first_response = await async_iteration(generator)\n",
      "  File \"/opt/homebrew/Caskroom/miniforge/base/envs/huggingface/lib/python3.9/site-packages/gradio/utils.py\", line 656, in async_iteration\n",
      "    return await iterator.__anext__()\n",
      "  File \"/opt/homebrew/Caskroom/miniforge/base/envs/huggingface/lib/python3.9/site-packages/gradio/utils.py\", line 649, in __anext__\n",
      "    return await anyio.to_thread.run_sync(\n",
      "  File \"/opt/homebrew/Caskroom/miniforge/base/envs/huggingface/lib/python3.9/site-packages/anyio/to_thread.py\", line 31, in run_sync\n",
      "    return await get_asynclib().run_sync_in_worker_thread(\n",
      "  File \"/opt/homebrew/Caskroom/miniforge/base/envs/huggingface/lib/python3.9/site-packages/anyio/_backends/_asyncio.py\", line 937, in run_sync_in_worker_thread\n",
      "    return await future\n",
      "  File \"/opt/homebrew/Caskroom/miniforge/base/envs/huggingface/lib/python3.9/site-packages/anyio/_backends/_asyncio.py\", line 867, in run\n",
      "    result = context.run(func, *args)\n",
      "  File \"/opt/homebrew/Caskroom/miniforge/base/envs/huggingface/lib/python3.9/site-packages/gradio/utils.py\", line 632, in run_sync_iterator_async\n",
      "    return next(iterator)\n",
      "  File \"/var/folders/02/t1w3xsh916z60p5jhmd5xbc00000gn/T/ipykernel_5518/1384268505.py\", line 22, in respond\n",
      "    for message in client.chat_completion(\n",
      "  File \"/opt/homebrew/Caskroom/miniforge/base/envs/huggingface/lib/python3.9/site-packages/huggingface_hub/inference/_client.py\", line 706, in chat_completion\n",
      "    data = self.post(\n",
      "  File \"/opt/homebrew/Caskroom/miniforge/base/envs/huggingface/lib/python3.9/site-packages/huggingface_hub/inference/_client.py\", line 273, in post\n",
      "    hf_raise_for_status(response)\n",
      "  File \"/opt/homebrew/Caskroom/miniforge/base/envs/huggingface/lib/python3.9/site-packages/huggingface_hub/utils/_errors.py\", line 371, in hf_raise_for_status\n",
      "    raise HfHubHTTPError(str(e), response=response) from e\n",
      "huggingface_hub.utils._errors.HfHubHTTPError: 429 Client Error: Too Many Requests for url: https://api-inference.huggingface.co/models/HuggingFaceH4/zephyr-7b-beta/v1/chat/completions (Request ID: fBAbYqY6jCanc-Qkg0jCJ)\n",
      "\n",
      "Rate limit reached. Please log in or use a HF access token\n"
     ]
    }
   ],
   "source": [
    "import gradio as gr\n",
    "\n",
    "def respond(\n",
    "    message,\n",
    "    history: list[tuple[str, str]],\n",
    "    system_message,\n",
    "    max_tokens,\n",
    "    temperature,\n",
    "    top_p,\n",
    "):\n",
    "    messages = [{\"role\": \"system\", \"content\": system_message}]\n",
    "    for val in history:\n",
    "        if val[0]:\n",
    "            messages.append({\"role\": \"user\", \"content\": val[0]})\n",
    "        if val[1]:\n",
    "            messages.append({\"role\": \"system\", \"content\": val[1]})\n",
    "    \n",
    "    messages.append({\"role\": \"user\", \"content\": message})\n",
    "\n",
    "    response = \" \"\n",
    "\n",
    "    for message in client.chat_completion(\n",
    "        messages,\n",
    "        max_tokens=max_tokens,\n",
    "        stream=True,\n",
    "        temperature=temperature,\n",
    "        top_p=top_p,\n",
    "    ):\n",
    "        token = message.choices[0].delta.content\n",
    "        response += token\n",
    "        yield response\n",
    "\n",
    "demo = gr.ChatInterface(\n",
    "    respond,\n",
    "    chatbot=gr.Chatbot(height=400),\n",
    "    additional_inputs=[\n",
    "        gr.Textbox(value=\"You are a friendly chatbot!\", label=\"System message\"),\n",
    "    ],\n",
    ")\n",
    "\n",
    "if __name__ == \"__main__\":\n",
    "    demo.launch()\n"
   ]
  }
 ],
 "metadata": {
  "kernelspec": {
   "display_name": "huggingface",
   "language": "python",
   "name": "python3"
  },
  "language_info": {
   "codemirror_mode": {
    "name": "ipython",
    "version": 3
   },
   "file_extension": ".py",
   "mimetype": "text/x-python",
   "name": "python",
   "nbconvert_exporter": "python",
   "pygments_lexer": "ipython3",
   "version": "3.9.12"
  }
 },
 "nbformat": 4,
 "nbformat_minor": 2
}
