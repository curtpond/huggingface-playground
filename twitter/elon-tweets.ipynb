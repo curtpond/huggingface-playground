{
 "cells": [
  {
   "cell_type": "markdown",
   "metadata": {},
   "source": [
    "### Import libraries"
   ]
  },
  {
   "cell_type": "code",
   "execution_count": 8,
   "metadata": {},
   "outputs": [],
   "source": [
    "import pandas as pd"
   ]
  },
  {
   "cell_type": "markdown",
   "metadata": {},
   "source": [
    "### Set up Kaggle"
   ]
  },
  {
   "cell_type": "code",
   "execution_count": 9,
   "metadata": {},
   "outputs": [],
   "source": [
    "from pathlib import Path\n",
    "\n",
    "cred_path = Path('~/.kaggle/kaggle.json').expanduser()\n",
    "if not cred_path.exists():\n",
    "    cred_path.parent.mkdir(exist_ok=True)\n",
    "    cred_path.write_text(creds)\n",
    "    cred_path.chmod(0o600)"
   ]
  },
  {
   "cell_type": "markdown",
   "metadata": {},
   "source": [
    "### Find dataset using the command line"
   ]
  },
  {
   "cell_type": "code",
   "execution_count": 10,
   "metadata": {},
   "outputs": [
    {
     "name": "stdout",
     "output_type": "stream",
     "text": [
      "ref                                                   title                                               size  lastUpdated          downloadCount  voteCount  usabilityRating  \n",
      "----------------------------------------------------  -------------------------------------------------  -----  -------------------  -------------  ---------  ---------------  \n",
      "kulgen/elon-musks-tweets                              Elon Musk's Tweets                                 168KB  2017-10-12 10:41:47           3158         64  0.7058824        \n",
      "gpreda/elon-musk-tweets                               Elon Musk Tweets                                    64KB  2022-10-26 13:00:09            239         47  1.0              \n",
      "andradaolteanu/all-elon-musks-tweets                  All Elon Musk's Tweets                               1MB  2021-04-17 13:58:26            920         53  0.9411765        \n",
      "ayhmrba/elon-musk-tweets-2010-2021                    Elon Musk Tweets (2010 - 2022)                       4MB  2022-03-05 14:04:36           4014         53  1.0              \n",
      "yasirabdaali/elon-musk-tweets-dataset-17k             Elon Musk Tweets Dataset (17K)                     849KB  2022-09-12 10:23:27            585         30  1.0              \n",
      "kingburrito666/elon-musk-tweets                       Elon Musk Tweets, 2010 to 2017                     175KB  2017-04-23 09:08:35            771         26  0.8235294        \n",
      "taruntiwarihp/elon-musk-tweets                        Elon Musk Tweets                                     1MB  2021-02-21 13:57:56            179         16  1.0              \n",
      "neelgajare/all-elon-musk-tweets-2022-updated          ALL Elon Musk Tweets [2022 UPDATED]                  1MB  2022-04-03 00:21:53            482         38  1.0              \n",
      "vidyapb/elon-musk-tweets-2015-to-2020                 Elon Musk Tweets 2015 to 2020                      954KB  2020-07-14 11:52:33            719         14  1.0              \n",
      "aneeshtickoo/tweets-on-elon-musk                      Tweets on Elon Musk                                 20MB  2022-07-12 13:34:49             39         12  0.9117647        \n",
      "kaushiksuresh147/bitcoin-tweets                       Bitcoin Tweets                                     627MB  2022-10-18 13:57:37           5719        116  1.0              \n",
      "zjjc123/elon-musk-tweets-dataset                      Elon Musk Tweets (Updated Daily Automatically)     497KB  2022-10-04 11:31:10             63         10  1.0              \n",
      "aneeshtickoo/tweets-on-elon-musk-twitter-acquisition  Tweets on Elon Musk Twitter Acquisition             10MB  2022-07-12 17:51:49             28         11  0.9117647        \n",
      "mdotcdot/elons-tweets                                 Elon's tweets                                        1MB  2022-09-28 06:23:39             19          4  0.47058824       \n",
      "iabhishekmaurya/neural-link-tweets                    Neural Link Tweets                                 384KB  2020-08-30 04:39:24             68         17  0.7058824        \n",
      "mohamedabidi97/elon-musks-tweets                      Elon Musk's tweets                                 175KB  2021-12-22 09:52:42             19          2  0.64705884       \n",
      "tleonel/iphone14-tweets                               iPhone 14 Tweets [July / Sept 2022 +144k English]   16MB  2022-09-08 23:14:50            367         24  1.0              \n",
      "vishxl/elon-musk-tweets                               Elon Musk: All Tweets [2011 - 2020]                  1MB  2020-12-14 19:37:56             66          5  0.3529412        \n",
      "kaushalpowar/elon-musk-2020-tweets                    Elon Musk 2020 tweets                              157KB  2022-10-15 14:42:48              2          1  0.7058824        \n",
      "mtesconi/twitter-deep-fake-text                       TweepFake - Twitter deep Fake text Dataset         345KB  2021-04-29 11:39:23            949         15  0.85294116       \n"
     ]
    }
   ],
   "source": [
    "!kaggle datasets list -s 'elon tweets'"
   ]
  },
  {
   "cell_type": "code",
   "execution_count": null,
   "metadata": {},
   "outputs": [],
   "source": []
  }
 ],
 "metadata": {
  "kernelspec": {
   "display_name": "Python 3.10.4 ('fastai')",
   "language": "python",
   "name": "python3"
  },
  "language_info": {
   "codemirror_mode": {
    "name": "ipython",
    "version": 3
   },
   "file_extension": ".py",
   "mimetype": "text/x-python",
   "name": "python",
   "nbconvert_exporter": "python",
   "pygments_lexer": "ipython3",
   "version": "3.10.4"
  },
  "orig_nbformat": 4,
  "vscode": {
   "interpreter": {
    "hash": "4b6371f9b180b180e3c0fc2dc539c52593b72b3e75aed3593bd0a5845eb81bd2"
   }
  }
 },
 "nbformat": 4,
 "nbformat_minor": 2
}
